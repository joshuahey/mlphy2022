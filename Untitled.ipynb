{
 "cells": [
  {
   "cell_type": "code",
   "execution_count": 121,
   "id": "ea7cc830",
   "metadata": {},
   "outputs": [],
   "source": [
    "import os\n",
    "import tensorflow as tf\n",
    "import numpy as np\n",
    "import pathlib\n",
    "from matplotlib import pyplot as plt\n",
    "import pandas as pd\n",
    "import glob"
   ]
  },
  {
   "cell_type": "code",
   "execution_count": 122,
   "id": "1861bc8e",
   "metadata": {},
   "outputs": [],
   "source": [
    "data = 'C:/Users/joshr/first-arrivals-ml-in-physics/data/train'\n",
    "data_dir = os.listdir(data)"
   ]
  },
  {
   "cell_type": "code",
   "execution_count": 123,
   "id": "01bf5da1",
   "metadata": {},
   "outputs": [
    {
     "data": {
      "text/plain": [
       "'C:/Users/joshr/first-arrivals-ml-in-physics/data/train\\\\simulation_1\\\\receiver_0.csv'"
      ]
     },
     "execution_count": 123,
     "metadata": {},
     "output_type": "execute_result"
    }
   ],
   "source": [
    "simulation = os.path.join(data, data_dir[0])\n",
    "simulation_dir = os.listdir(simulation)\n",
    "file = os.path.join(simulation, simulation_dir[0])\n",
    "file"
   ]
  },
  {
   "cell_type": "code",
   "execution_count": 255,
   "id": "ad412266",
   "metadata": {},
   "outputs": [],
   "source": [
    "files = os.path.join(data, \"simulation_*_output.csv\")\n",
    "files = glob.glob(files)\n",
    "df = pd.concat(map(pd.read_csv, files), ignore_index=True)\n",
    "df = df.replace(-1, np.nan)"
   ]
  },
  {
   "cell_type": "code",
   "execution_count": 235,
   "id": "f466d396",
   "metadata": {},
   "outputs": [
    {
     "name": "stderr",
     "output_type": "stream",
     "text": [
      "C:\\Users\\joshr\\AppData\\Local\\Temp\\ipykernel_1628\\3677732886.py:3: FutureWarning: Dropping of nuisance columns in DataFrame reductions (with 'numeric_only=None') is deprecated; in a future version this will raise TypeError.  Select only valid columns before calling the reduction.\n",
      "  df_mean = df[i::5].mean()\n"
     ]
    }
   ],
   "source": [
    "values  = []\n",
    "for i in range(0,5):\n",
    "    df_mean = df[i::5].mean()\n",
    "    values.append(df_mean.tolist())\n",
    "test = []\n",
    "matrix = []\n",
    "for j in range(0,127):\n",
    "    for i in range(0,5):\n",
    "        test.append(values[i][j])\n",
    "    matrix.append(test)\n",
    "matrix"
   ]
  },
  {
   "cell_type": "code",
   "execution_count": 258,
   "id": "1fe7afce",
   "metadata": {},
   "outputs": [],
   "source": [
    "sfile = pd.read_csv(\"C:/Users/joshr/first-arrivals-ml-in-physics/sampleSubmission.csv\")\n",
    "sfile[\"Predicted\"] = \n",
    "# sfile.to_csv(\"C:/Users/joshr/first-arrivals-ml-in-physics/test.csv\",index=False)"
   ]
  },
  {
   "cell_type": "code",
   "execution_count": 257,
   "id": "1888b15b",
   "metadata": {},
   "outputs": [],
   "source": []
  },
  {
   "cell_type": "code",
   "execution_count": null,
   "id": "4aded45d",
   "metadata": {},
   "outputs": [],
   "source": []
  }
 ],
 "metadata": {
  "kernelspec": {
   "display_name": "Python 3 (ipykernel)",
   "language": "python",
   "name": "python3"
  },
  "language_info": {
   "codemirror_mode": {
    "name": "ipython",
    "version": 3
   },
   "file_extension": ".py",
   "mimetype": "text/x-python",
   "name": "python",
   "nbconvert_exporter": "python",
   "pygments_lexer": "ipython3",
   "version": "3.10.4"
  }
 },
 "nbformat": 4,
 "nbformat_minor": 5
}
